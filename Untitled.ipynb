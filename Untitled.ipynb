{
 "cells": [
  {
   "cell_type": "code",
   "execution_count": 1,
   "metadata": {},
   "outputs": [],
   "source": [
    "import numpy as np\n",
    "import matplotlib.pyplot as plt"
   ]
  },
  {
   "cell_type": "code",
   "execution_count": 2,
   "metadata": {},
   "outputs": [],
   "source": [
    "def model_A(x, params):\n",
    "    y = params[0] + x*params[1] + params[2]*x**2\n",
    "    return y\n",
    "def model_B(x, params):\n",
    "    y = params[0]*(np.exp(-0.5*(x-params[1])**2/params[2]**2))\n",
    "    return y    \n",
    "def loglike_A(x_obs, y_obs, sigma_y_obs, betas):\n",
    "    n_obs = len(y_obs)\n",
    "    l = 0.0\n",
    "    for i in range(n_obs):\n",
    "        l += -0.5*(y_obs[i]-model_A(x_obs[i], betas))**2/sigma_y_obs[i]**2\n",
    "    return l\n",
    "def loglike_B(x_obs, y_obs, sigma_y_obs, betas):\n",
    "    n_obs = len(y_obs)\n",
    "    l = 0.0\n",
    "    for i in range(n_obs):\n",
    "        l += -0.5*(y_obs[i]-model_B(x_obs[i], betas))**2/sigma_y_obs[i]**2\n",
    "    return l"
   ]
  },
  {
   "cell_type": "code",
   "execution_count": 3,
   "metadata": {},
   "outputs": [],
   "source": [
    "data = np.loadtxt(\"data_to_fit.txt\")\n",
    "x_obs = data[:,0]\n",
    "y_obs = data[:,1]\n",
    "sigma_y_obs = data[:,2]"
   ]
  },
  {
   "cell_type": "code",
   "execution_count": 14,
   "metadata": {},
   "outputs": [
    {
     "name": "stderr",
     "output_type": "stream",
     "text": [
      "/srv/conda/envs/notebook/lib/python3.7/site-packages/ipykernel_launcher.py:5: RuntimeWarning: divide by zero encountered in double_scalars\n",
      "  \"\"\"\n"
     ]
    }
   ],
   "source": [
    "N = 20000\n",
    "N_param = 3\n",
    "betasA = np.zeros([N, N_param])\n",
    "for i in range(1, N):\n",
    "    current_betas = betasA[i-1,:]\n",
    "    next_betas = current_betas + np.random.normal(scale=0.01, size=N_param)\n",
    "    loglike_current = loglike_A(x_obs, y_obs, sigma_y_obs, current_betas)\n",
    "    loglike_next = loglike_A(x_obs, y_obs, sigma_y_obs, next_betas)\n",
    "    r = np.min([np.exp(loglike_next - loglike_current), 1.0])\n",
    "    alpha = np.random.random()\n",
    "    if alpha < r:\n",
    "        betasA[i,:] = next_betas\n",
    "    else:\n",
    "        betasA[i,:] = current_betas\n",
    "betasA = betasA[N//2:,:]\n",
    "\n",
    "betasB = np.zeros([N, N_param])\n",
    "for i in range(1, N):\n",
    "    current_betas = betasB[i-1,:]\n",
    "    next_betas = current_betas + np.random.normal(scale=0.01, size=N_param)\n",
    "    loglike_current = loglike_B(x_obs, y_obs, sigma_y_obs, current_betas)\n",
    "    loglike_next = loglike_B(x_obs, y_obs, sigma_y_obs, next_betas)\n",
    "    r = np.min([np.exp(loglike_next - loglike_current), 1.0])\n",
    "    alpha = np.random.random()\n",
    "    if alpha < r:\n",
    "        betasB[i,:] = next_betas\n",
    "    else:\n",
    "        betasB[i,:] = current_betas\n",
    "betasB = betasB[N//2:,:]"
   ]
  },
  {
   "cell_type": "code",
   "execution_count": 15,
   "metadata": {},
   "outputs": [
    {
     "data": {
      "text/plain": [
       "[<matplotlib.lines.Line2D at 0x7f79c8a8fad0>]"
      ]
     },
     "execution_count": 15,
     "metadata": {},
     "output_type": "execute_result"
    },
    {
     "data": {
      "image/png": "[encoded data removed]",
      "text/plain": [
       "<Figure size 432x288 with 1 Axes>"
      ]
     },
     "metadata": {
      "needs_background": "light"
     },
     "output_type": "display_data"
    }
   ],
   "source": [
    "plt.scatter(x_obs,y_obs)\n",
    "plt.plot(np.linspace(3,6.6,1000), model_A(np.linspace(3,6.6,1000),np.mean(betasA,axis=0)))\n",
    "plt.plot(np.linspace(3,6.6,1000), model_B(np.linspace(3,6.6,1000),np.mean(betasB,axis=0)))\n"
   ]
  },
  {
   "cell_type": "code",
   "execution_count": null,
   "metadata": {},
   "outputs": [],
   "source": []
  },
  {
   "cell_type": "code",
   "execution_count": null,
   "metadata": {},
   "outputs": [],
   "source": []
  }
 ],
 "metadata": {
  "kernelspec": {
   "display_name": "Python 3",
   "language": "python",
   "name": "python3"
  },
  "language_info": {
   "codemirror_mode": {
    "name": "ipython",
    "version": 3
   },
   "file_extension": ".py",
   "mimetype": "text/x-python",
   "name": "python",
   "nbconvert_exporter": "python",
   "pygments_lexer": "ipython3",
   "version": "3.7.6"
  }
 },
 "nbformat": 4,
 "nbformat_minor": 4
}
